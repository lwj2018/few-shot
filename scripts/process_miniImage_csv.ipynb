{
 "nbformat": 4,
 "nbformat_minor": 2,
 "metadata": {
  "language_info": {
   "name": "python",
   "codemirror_mode": {
    "name": "ipython",
    "version": 3
   },
   "version": "3.7.6-final"
  },
  "orig_nbformat": 2,
  "file_extension": ".py",
  "mimetype": "text/x-python",
  "name": "python",
  "npconvert_exporter": "python",
  "pygments_lexer": "ipython3",
  "version": 3,
  "kernelspec": {
   "name": "python37664bit0ecf791bd83b4b4eb3b96ac531fee81e",
   "display_name": "Python 3.7.6 64-bit"
  }
 },
 "cells": [
  {
   "cell_type": "code",
   "execution_count": 7,
   "metadata": {},
   "outputs": [],
   "source": [
    "import os\n",
    "import os.path as osp\n",
    "trainvaltest_csv = '../csv/trainvaltest.csv'\n",
    "trainval_csv = '../csv/trainval.csv'\n",
    "test_csv = '../csv/test.csv'\n",
    "traintest_csv = '../csv/traintest.csv'\n",
    "train_csv = '../csv/train.csv'\n",
    "val_csv = '../csv/val.csv'\n",
    "# Create map: wnid -> ind\n",
    "f = open(trainvaltest_csv,'r')\n",
    "lines = f.readlines()[1:]\n",
    "map = {}\n",
    "count = 0\n",
    "for i,l in enumerate(lines):\n",
    "    path, wnid = l.strip().split(',')\n",
    "    if wnid not in map.keys():\n",
    "        map[wnid] = count\n",
    "        count += 1\n",
    "f.close()\n",
    "\n",
    "def replace_wnid_with_ind(fname):\n",
    "    file = open(fname,'r')\n",
    "    lines = file.readlines()[1:]\n",
    "    file.close()\n",
    "    file = open(fname,'w')\n",
    "    file.write('filename,label\\n')\n",
    "    for l in lines:\n",
    "        path, wnid = l.strip().split(',')\n",
    "        record = path + ',' + str(map[wnid]) + '\\n'\n",
    "        file.write(record)\n",
    "    file.close()\n",
    "\n",
    "for file in [trainvaltest_csv,trainval_csv,traintest_csv]:\n",
    "    replace_wnid_with_ind(file)"
   ]
  }
 ]
}