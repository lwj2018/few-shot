{
 "nbformat": 4,
 "nbformat_minor": 2,
 "metadata": {
  "language_info": {
   "name": "python",
   "codemirror_mode": {
    "name": "ipython",
    "version": 3
   },
   "version": "3.7.6-final"
  },
  "orig_nbformat": 2,
  "file_extension": ".py",
  "mimetype": "text/x-python",
  "name": "python",
  "npconvert_exporter": "python",
  "pygments_lexer": "ipython3",
  "version": 3,
  "kernelspec": {
   "name": "python37664bit0ecf791bd83b4b4eb3b96ac531fee81e",
   "display_name": "Python 3.7.6 64-bit"
  }
 },
 "cells": [
  {
   "cell_type": "code",
   "execution_count": 3,
   "metadata": {},
   "outputs": [
    {
     "output_type": "execute_result",
     "data": {
      "text/plain": "967"
     },
     "metadata": {},
     "execution_count": 3
    }
   ],
   "source": [
    "import os\n",
    "import os.path as osp\n",
    "data_root = '/Users/liweijie/Downloads/omniglot-master/python/images_background'\n",
    "path_list = os.listdir(data_root)\n",
    "count = 0\n",
    "for subforder in path_list:\n",
    "    if not 'DS' in subforder:\n",
    "        subforder_path = osp.join(data_root, subforder)\n",
    "        l = len(os.listdir(subforder_path))\n",
    "        count += l\n",
    "        print(l)\n",
    "count"
   ]
  },
  {
   "cell_type": "code",
   "execution_count": 5,
   "metadata": {},
   "outputs": [
    {
     "output_type": "stream",
     "name": "stdout",
     "text": "tensor([4, 2, 0, 3, 1])\n"
    },
    {
     "output_type": "execute_result",
     "data": {
      "text/plain": "tensor(4)"
     },
     "metadata": {},
     "execution_count": 5
    }
   ],
   "source": [
    "import torch\n",
    "tmp = torch.randperm(self.n_shot)\n",
    "novel_query = torch.randperm(self.n_shot-1)[0]+1\n",
    "a = tmp[:self.n_shot-novel_query]\n",
    "b = tmp[self.n_shot-novel_query:]"
   ]
  }
 ]
}