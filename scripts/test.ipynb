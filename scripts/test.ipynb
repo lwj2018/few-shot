{
 "nbformat": 4,
 "nbformat_minor": 2,
 "metadata": {
  "language_info": {
   "name": "python",
   "codemirror_mode": {
    "name": "ipython",
    "version": 3
   },
   "version": "3.7.6-final"
  },
  "orig_nbformat": 2,
  "file_extension": ".py",
  "mimetype": "text/x-python",
  "name": "python",
  "npconvert_exporter": "python",
  "pygments_lexer": "ipython3",
  "version": 3,
  "kernelspec": {
   "name": "python37664bit0ecf791bd83b4b4eb3b96ac531fee81e",
   "display_name": "Python 3.7.6 64-bit"
  }
 },
 "cells": [
  {
   "cell_type": "code",
   "execution_count": 3,
   "metadata": {},
   "outputs": [
    {
     "output_type": "execute_result",
     "data": {
      "text/plain": "967"
     },
     "metadata": {},
     "execution_count": 3
    }
   ],
   "source": [
    "import os\n",
    "import os.path as osp\n",
    "data_root = '/Users/liweijie/Downloads/omniglot-master/python/images_background'\n",
    "path_list = os.listdir(data_root)\n",
    "count = 0\n",
    "for subforder in path_list:\n",
    "    if not 'DS' in subforder:\n",
    "        subforder_path = osp.join(data_root, subforder)\n",
    "        l = len(os.listdir(subforder_path))\n",
    "        count += l\n",
    "        print(l)\n",
    "count"
   ]
  },
  {
   "cell_type": "code",
   "execution_count": 1,
   "metadata": {},
   "outputs": [
    {
     "output_type": "execute_result",
     "data": {
      "text/plain": "tensor([ 0.0000,  0.2000,  0.4000,  0.6000,  0.8000,  1.0000,  1.2000,  1.4000,\n         1.6000,  1.8000,  2.0000,  2.2000,  2.4000,  2.6000,  2.8000,  3.0000,\n         3.2000,  3.4000,  3.6000,  3.8000,  4.0000,  4.2000,  4.4000,  4.6000,\n         4.8000,  5.0000,  5.2000,  5.4000,  5.6000,  5.8000,  6.0000,  6.2000,\n         6.4000,  6.6000,  6.8000,  7.0000,  7.2000,  7.4000,  7.6000,  7.8000,\n         8.0000,  8.2000,  8.4000,  8.6000,  8.8000,  9.0000,  9.2000,  9.4000,\n         9.6000,  9.8000, 10.0000, 10.2000, 10.4000, 10.6000, 10.8000, 11.0000,\n        11.2000, 11.4000, 11.6000, 11.8000, 12.0000, 12.2000, 12.4000, 12.6000,\n        12.8000, 13.0000, 13.2000, 13.4000, 13.6000, 13.8000, 14.0000, 14.2000,\n        14.4000, 14.6000, 14.8000, 15.0000, 15.2000, 15.4000, 15.6000, 15.8000,\n        16.0000, 16.2000, 16.4000, 16.6000, 16.8000, 17.0000, 17.2000, 17.4000,\n        17.6000, 17.8000, 18.0000, 18.2000, 18.4000, 18.6000, 18.8000])"
     },
     "metadata": {},
     "execution_count": 1
    }
   ],
   "source": [
    "import torch\n",
    "k = 20\n",
    "q = 5\n",
    "torch.arange(0,k-1,1/q)"
   ]
  }
 ]
}