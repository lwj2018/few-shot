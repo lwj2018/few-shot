{
 "nbformat": 4,
 "nbformat_minor": 2,
 "metadata": {
  "language_info": {
   "name": "python",
   "codemirror_mode": {
    "name": "ipython",
    "version": 3
   },
   "version": "3.7.6-final"
  },
  "orig_nbformat": 2,
  "file_extension": ".py",
  "mimetype": "text/x-python",
  "name": "python",
  "npconvert_exporter": "python",
  "pygments_lexer": "ipython3",
  "version": 3,
  "kernelspec": {
   "name": "python37664bit0ecf791bd83b4b4eb3b96ac531fee81e",
   "display_name": "Python 3.7.6 64-bit"
  }
 },
 "cells": [
  {
   "cell_type": "code",
   "execution_count": 3,
   "metadata": {},
   "outputs": [
    {
     "output_type": "execute_result",
     "data": {
      "text/plain": "967"
     },
     "metadata": {},
     "execution_count": 3
    }
   ],
   "source": [
    "import os\n",
    "import os.path as osp\n",
    "data_root = '/Users/liweijie/Downloads/omniglot-master/python/images_background'\n",
    "path_list = os.listdir(data_root)\n",
    "count = 0\n",
    "for subforder in path_list:\n",
    "    if not 'DS' in subforder:\n",
    "        subforder_path = osp.join(data_root, subforder)\n",
    "        l = len(os.listdir(subforder_path))\n",
    "        count += l\n",
    "        print(l)\n",
    "count"
   ]
  },
  {
   "cell_type": "code",
   "execution_count": 1,
   "metadata": {},
   "outputs": [
    {
     "output_type": "stream",
     "name": "stdout",
     "text": "0 0\n1 1\n2 2\n3 3\n4 4\n"
    }
   ],
   "source": [
    "import numpy\n",
    "x = numpy.arange(5)\n",
    "y = numpy.arange(6)\n",
    "for xx,yy in zip(x,y):\n",
    "    print(xx,yy)"
   ]
  }
 ]
}